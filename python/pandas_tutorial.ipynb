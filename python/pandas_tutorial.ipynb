{
 "cells": [
  {
   "cell_type": "code",
   "execution_count": 1,
   "metadata": {},
   "outputs": [
    {
     "name": "stdout",
     "output_type": "stream",
     "text": [
      "\n",
      "CSV 파일로부터 읽은 데이터: \n",
      "\n",
      "name  age  salary\n",
      " 앨리스   25  50,000\n",
      "   밥   30  60,000\n",
      "  찰리   35  70,000\n",
      " 제임스   30 400,000\n",
      " 앨리스   25  50,000\n",
      "   밥   30  60,000\n",
      "  찰리   35  70,000\n",
      " 제임스   30 400,000\n"
     ]
    }
   ],
   "source": [
    "# CSV 파일로부터 읽기\n",
    "\n",
    "import pandas as pd\n",
    "csv_data = pd.read_csv('my_data.csv')\n",
    "print(\"\\nCSV 파일로부터 읽은 데이터: \\n\")\n",
    "csv_data.rename( columns={'Unnamed: 0':'안녕'}, inplace=True )\n",
    "csv_data.drop(columns=csv_data.columns[0], inplace=True)\n",
    "name_dict = {\n",
    "    'Alice': '앨리스',\n",
    "    'Bob': '밥',\n",
    "    'Charlie': '찰리',\n",
    "    'james': '제임스'\n",
    "}\n",
    "\n",
    "csv_data['name'] = csv_data['name'].map(name_dict)\n",
    "csv_data['salary'] = csv_data['salary'].map('{:,}'.format)\n",
    "\n",
    "\n",
    "print(csv_data.to_string(index=False))\n",
    "csv_data.to_csv('SUBJECT.csv', index=False)"
   ]
  },
  {
   "cell_type": "code",
   "execution_count": null,
   "metadata": {},
   "outputs": [],
   "source": []
  },
  {
   "cell_type": "code",
   "execution_count": null,
   "metadata": {},
   "outputs": [],
   "source": []
  }
 ],
 "metadata": {
  "kernelspec": {
   "display_name": "Python 3.9.6 64-bit",
   "language": "python",
   "name": "python3"
  },
  "language_info": {
   "codemirror_mode": {
    "name": "ipython",
    "version": 3
   },
   "file_extension": ".py",
   "mimetype": "text/x-python",
   "name": "python",
   "nbconvert_exporter": "python",
   "pygments_lexer": "ipython3",
   "version": "3.9.6"
  },
  "orig_nbformat": 4,
  "vscode": {
   "interpreter": {
    "hash": "31f2aee4e71d21fbe5cf8b01ff0e069b9275f58929596ceb00d14d90e3e16cd6"
   }
  }
 },
 "nbformat": 4,
 "nbformat_minor": 2
}
